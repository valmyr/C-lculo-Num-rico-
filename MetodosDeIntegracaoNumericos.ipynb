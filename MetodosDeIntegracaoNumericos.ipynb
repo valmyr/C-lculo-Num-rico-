{
  "nbformat": 4,
  "nbformat_minor": 0,
  "metadata": {
    "colab": {
      "name": "MetodosDeIntegracaoNumericos.ipynb",
      "provenance": [],
      "authorship_tag": "ABX9TyPJyq6nO3uCEVc9U6m34FIq",
      "include_colab_link": true
    },
    "kernelspec": {
      "name": "python3",
      "display_name": "Python 3"
    },
    "language_info": {
      "name": "python"
    }
  },
  "cells": [
    {
      "cell_type": "markdown",
      "metadata": {
        "id": "view-in-github",
        "colab_type": "text"
      },
      "source": [
        "<a href=\"https://colab.research.google.com/github/valmyr/C-lculo-Num-rico-/blob/main/MetodosDeIntegracaoNumericos.ipynb\" target=\"_parent\"><img src=\"https://colab.research.google.com/assets/colab-badge.svg\" alt=\"Open In Colab\"/></a>"
      ]
    },
    {
      "cell_type": "code",
      "execution_count": 67,
      "metadata": {
        "id": "bRL01Fj-y4XB"
      },
      "outputs": [],
      "source": [
        "import numpy as np\n",
        "a = 0\n",
        "b = 1\n",
        "n = 1000\n",
        "h = (b-a)/n\n",
        "f = lambda x: np.exp(x**2)# f(x) = e^(x^2) [0,1]\n",
        "x = np.arange(a,b,(b-a)/n)"
      ]
    },
    {
      "cell_type": "code",
      "source": [
        "def Trapezio(h,x,f):\n",
        "  integralTrapezio = f(x[0])\n",
        "  i = 0\n",
        "  while(i < len(x)-1):\n",
        "    i+=1\n",
        "    integralTrapezio+=2*f(x[i])\n",
        "  integralTrapezio+=f(x[len(x)-1])\n",
        "  return (h*integralTrapezio)/2\n"
      ],
      "metadata": {
        "id": "AdM5iJTOzTsw"
      },
      "execution_count": 68,
      "outputs": []
    },
    {
      "cell_type": "code",
      "source": [
        "def Richardson(h,x,f):\n",
        "  integralRichadson = f(x[0])\n",
        "  TrapezioResult = Trapezio(h,x,f)\n",
        "  i  = 0\n",
        "  while(i < len(x)-1):\n",
        "    i+=1\n",
        "    if(i%2 == 0):\n",
        "      integralRichadson+=2*f(x[i])\n",
        "  integralRichadson += f(x[len(x)-1])\n",
        "  return TrapezioResult+(TrapezioResult-h*integralRichadson)/3"
      ],
      "metadata": {
        "id": "D5AYecCKzA-u"
      },
      "execution_count": 69,
      "outputs": []
    },
    {
      "cell_type": "code",
      "source": [
        "def Simpson(h,x,f):\n",
        "  integralSimpson = f(x[0])\n",
        "  i = 0\n",
        "  while(i < len(x)-1):\n",
        "    i+=1\n",
        "    if(i % 2 == 0):\n",
        "      integralSimpson+= 2*f(x[i])\n",
        "    else:\n",
        "      integralSimpson+=4*f(x[i])\n",
        "  integralSimpson+=f(x[len(x)-1])\n",
        "  return (integralSimpson*h)/3"
      ],
      "metadata": {
        "id": "pbMJpfg3zQ2q"
      },
      "execution_count": 70,
      "outputs": []
    },
    {
      "cell_type": "code",
      "source": [
        "#testes\n",
        "TrapezioResult = Trapezio(h,x,f)\n",
        "RichardsonResult = Richardson(h,x,f)\n",
        "SimpsonResult = Simpson(h,x,f)\n",
        "\n",
        "\n",
        "print(f'{TrapezioResult:.4}')\n",
        "print(f'{RichardsonResult:.4}')\n",
        "print(f'{SimpsonResult:.4}')"
      ],
      "metadata": {
        "colab": {
          "base_uri": "https://localhost:8080/"
        },
        "id": "R2sWrTP92-cD",
        "outputId": "a218a83a-4229-44a6-c318-e6fe8027d344"
      },
      "execution_count": 71,
      "outputs": [
        {
          "output_type": "stream",
          "name": "stdout",
          "text": [
            "1.463\n",
            "1.463\n",
            "1.463\n"
          ]
        }
      ]
    }
  ]
}